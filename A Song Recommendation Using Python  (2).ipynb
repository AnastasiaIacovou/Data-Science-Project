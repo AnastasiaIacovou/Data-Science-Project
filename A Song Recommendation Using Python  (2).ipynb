{
 "cells": [
  {
   "cell_type": "code",
   "execution_count": 1,
   "id": "31444582",
   "metadata": {},
   "outputs": [],
   "source": [
    "import requests\n",
    "import json\n",
    "import os"
   ]
  },
  {
   "cell_type": "code",
   "execution_count": 2,
   "id": "8e62c013",
   "metadata": {},
   "outputs": [],
   "source": [
    "class SpotifyClient:\n",
    "     def initial(self, authorization_token, user_id):\n",
    "        self.authorization_token=authorization_token\n",
    "        self.user_id=user_id\n",
    "        "
   ]
  },
  {
   "cell_type": "code",
   "execution_count": 3,
   "id": "14428cfb",
   "metadata": {},
   "outputs": [],
   "source": [
    "def main():\n",
    "    spotify_client =(os.getenv(\"5b7d74a57bb3454596c6440b63e08c16\"),\n",
    "                     os.getenv(\"BQDGMiD7fwFIanrK73E69daLtQccL6d8imG3mizJce1qeGgVLG4WURoeL0VKFiOSUKK1PTlcg0TIQcKtGEn1ekMNHvwyp1pb-VeFD50zqIOLQ4YIARacpLcXqWV4EEuXfUarKadTn8o8rSP97CDt_qsuB0OxtkgwvC7B_BeKa7a52YG22hlTFN5o6MDZHVwVCHHu0ZlsoNdM9h4g6rp7L65rfJuQeIZ-SMx5nCDAiywYvg\"))\n",
    "    "
   ]
  },
  {
   "cell_type": "code",
   "execution_count": 4,
   "id": "2b903971",
   "metadata": {},
   "outputs": [],
   "source": [
    "class Track:\n",
    "    def __init__(self, name, id, artist):\n",
    "        \n",
    "        self.name = name\n",
    "        self.id = id\n",
    "        self.artist = artist\n",
    "\n",
    "    def create_spotify_uri(self):\n",
    "        return f\"spotify:track:{self.id}\"\n",
    "\n",
    "    def __str__(self):\n",
    "        return self.name + \" by \" + self.artist"
   ]
  },
  {
   "cell_type": "code",
   "execution_count": 5,
   "id": "6a5ec42a",
   "metadata": {},
   "outputs": [],
   "source": [
    "class Playlist:\n",
    "    def __init__(self, name, id):\n",
    "        self.name = name\n",
    "        self.id = id\n",
    "        def __str__(self):\n",
    "            return f\"Playlist: {self.name}\""
   ]
  },
  {
   "cell_type": "code",
   "execution_count": 6,
   "id": "70e37b82",
   "metadata": {},
   "outputs": [],
   "source": [
    "def get_last_tracks(self,limit=8):\n",
    "    url=f\"https://api.spotify.com/v1/me/player/recently-played?limit={limit}\"\n",
    "    response= self._place_get_api_request(url)\n",
    "    response_json = response.json()\n",
    "    tracks = [Track(track[\"track\"][\"name\"], track[\"track\"][\"id\"], track[\"track\"][\"artists\"][0][\"name\"]) for\n",
    "            track in response_json[\"items\"]]\n",
    "    return tracks"
   ]
  },
  {
   "cell_type": "code",
   "execution_count": 7,
   "id": "d4fee5aa",
   "metadata": {},
   "outputs": [],
   "source": [
    "def get_song_recommendations(self,s_tracks,limit=20):\n",
    "    s_tracks_url = \"\"\n",
    "    for s_track in seed_tracks:\n",
    "        s_tracks_url += s_track.id + \",\"\n",
    "        s_tracks_url = s_tracks_url[:-1]\n",
    "        url = f\"https://api.spotify.com/v1/recommendations&limit={limit}\"\n",
    "        response = self._place_get_api_request(url)\n",
    "        response_json = response.json()\n",
    "        tracks = [Track(track[\"name\"], track[\"id\"], track[\"artists\"][0][\"name\"]) for\n",
    "                  track in response_json[\"tracks\"]]\n",
    "        return tracks"
   ]
  },
  {
   "cell_type": "code",
   "execution_count": 8,
   "id": "aad1b85a",
   "metadata": {},
   "outputs": [],
   "source": [
    "def _place_get_api_request(self, url):\n",
    "    response = requests.get(\n",
    "        url,\n",
    "        headers={\n",
    "            \"Content-Type\": \"application/json\",\n",
    "            \"Authorization\": f\"Bearer {self._authorization_token}\"\n",
    "        }\n",
    "    )\n",
    "    return response"
   ]
  },
  {
   "cell_type": "code",
   "execution_count": 9,
   "id": "63e9711d",
   "metadata": {},
   "outputs": [],
   "source": [
    "def pop_playlist(self, playlist, tracks): #adds the songs in the playlist\n",
    "    track_uris = [track.create_spotify_uri() for track in tracks]\n",
    "    data = json.dumps(track_uris)\n",
    "    url = f\"https://api.spotify.com/v1/playlists/{playlist.id}/tracks\"\n",
    "    response = self._place_post_api_request(url, data)\n",
    "    response_json = response.json()\n",
    "    return response_json"
   ]
  },
  {
   "cell_type": "code",
   "execution_count": 10,
   "id": "a13c856e",
   "metadata": {},
   "outputs": [],
   "source": [
    "def create_playlist(self,name): #a playlist to for the recommended songs\n",
    "    data = json.dumps({\n",
    "        \"name\": name,\n",
    "        \"description\": \"Recommended songs\",\n",
    "        \"public\": True })\n",
    "    url = f\"https://api.spotify.com/v1/playlists/playlist_id\"\n",
    "    reponse = self._place_post_api_request(url, data)\n",
    "    response_json = response.json()\n",
    "    playlist_id = response_json[\"id\"]\n",
    "    playlist = Playlist(name, playlist_id)\n",
    "    return playlist\n"
   ]
  },
  {
   "cell_type": "code",
   "execution_count": 11,
   "id": "8c20a635",
   "metadata": {},
   "outputs": [],
   "source": [
    "def _place_post_api_request(self, url, data):\n",
    "    response = requests.post(\n",
    "        url,\n",
    "        data=data,\n",
    "        headers={\n",
    "            \"Content-Type\": \"application/json\",\n",
    "            \"Authorization\": f\"Bearer {self._authorization_token}\"\n",
    "        }\n",
    "    )\n",
    "    return response"
   ]
  },
  {
   "cell_type": "code",
   "execution_count": null,
   "id": "e8bf2385",
   "metadata": {},
   "outputs": [],
   "source": [
    "  num_tracks_to_visualise = int(input(\"How many tracks would you like to visualise? \"))\n",
    "last_played_tracks = spotify_client.get_last_played_tracks(num_tracks_to_visualise)\n"
   ]
  },
  {
   "cell_type": "code",
   "execution_count": null,
   "id": "9a457d00",
   "metadata": {},
   "outputs": [],
   "source": [
    "def get_track_recommendations(self, s_tracks, limit=20):\n",
    "    s_tracks_url = \"\"\n",
    "    for s_track in seed_tracks:\n",
    "        s_tracks_url += s_tracks.id + \",\"\n",
    "        s_tracks_url = s_tracks_url[:-1]\n",
    "        url = f\"https://api.spotify.com/v1/recommendations\"\n",
    "        response = self._place_get_api_request(url)\n",
    "        response_json = response.json()\n",
    "        tracks = [Track(track[\"name\"], track[\"id\"], track[\"artists\"][0][\"name\"]) for\n",
    "                  track in response_json[\"tracks\"]]\n",
    "        return tracks\n"
   ]
  },
  {
   "cell_type": "code",
   "execution_count": null,
   "id": "f2c53ed1",
   "metadata": {},
   "outputs": [],
   "source": [
    "playlist_name = input(\"\\nWhat's the playlist name? \")\n",
    "playlist = spotify_client.create_playlist(playlist_name)\n",
    "print(f\"\\nPlaylist '{playlist.name}' was created successfully.\")"
   ]
  },
  {
   "cell_type": "code",
   "execution_count": null,
   "id": "6242eddd",
   "metadata": {},
   "outputs": [],
   "source": [
    " spotify_client.populate_playlist(playlist, recommended_tracks)\n",
    "print (f\"\\nRecommended tracks successfully uploaded to playlist '{playlist.name}'.\")\n"
   ]
  },
  {
   "cell_type": "code",
   "execution_count": null,
   "id": "3450efac",
   "metadata": {},
   "outputs": [],
   "source": [
    "if __name__ == \"__main__\":\n",
    "    main()"
   ]
  },
  {
   "cell_type": "code",
   "execution_count": null,
   "id": "9cbee12c",
   "metadata": {},
   "outputs": [],
   "source": []
  }
 ],
 "metadata": {
  "kernelspec": {
   "display_name": "Python 3 (ipykernel)",
   "language": "python",
   "name": "python3"
  },
  "language_info": {
   "codemirror_mode": {
    "name": "ipython",
    "version": 3
   },
   "file_extension": ".py",
   "mimetype": "text/x-python",
   "name": "python",
   "nbconvert_exporter": "python",
   "pygments_lexer": "ipython3",
   "version": "3.9.7"
  }
 },
 "nbformat": 4,
 "nbformat_minor": 5
}
